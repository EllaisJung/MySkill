{
  "nbformat": 4,
  "nbformat_minor": 0,
  "metadata": {
    "colab": {
      "provenance": []
    },
    "kernelspec": {
      "name": "python3",
      "display_name": "Python 3"
    },
    "language_info": {
      "name": "python"
    }
  },
  "cells": [
    {
      "cell_type": "code",
      "execution_count": null,
      "metadata": {
        "id": "dMQeggL4AMgi",
        "colab": {
          "base_uri": "https://localhost:8080/"
        },
        "outputId": "c677dd3d-8210-41fd-f4f9-9116a2aaa98e"
      },
      "outputs": [
        {
          "output_type": "stream",
          "name": "stdout",
          "text": [
            "Requirement already satisfied: numpy in /usr/local/lib/python3.10/dist-packages (1.23.5)\n"
          ]
        }
      ],
      "source": [
        "!pip install numpy"
      ]
    },
    {
      "cell_type": "code",
      "source": [
        "import numpy as np"
      ],
      "metadata": {
        "id": "IXg8ZxlsATv0"
      },
      "execution_count": null,
      "outputs": []
    },
    {
      "cell_type": "markdown",
      "source": [
        "numpy.array(object, dtype=None, copy=True, order=None, subok=False, ndmin=0)\n",
        "\n",
        "- object : Objek apa pun yang mengekspos metode antarmuka array mengembalikan array, atau apa pun (bersarang) urutan\n",
        "- dtype  : type data, opsional\n",
        "- copy   : Opsional. Secara default (True), objek disalin\n",
        "- order  : C (baris mayor) atau F (utama kolom) atau A (apa saja) (default)\n",
        "- subok  : Secara default, array yang dikembalikan dipaksa menjadi array kelas dasar. Jika benar, sub-kelas akan diberikan\n",
        "- ndimin : Menentukan dimensi minimum dari array yang dihasilkan"
      ],
      "metadata": {
        "id": "DwDD4aF5K7Cw"
      }
    },
    {
      "cell_type": "code",
      "source": [
        "# Contoh 1\n",
        "# Masukkan nilai integer atau nilai dengan tipe data apapun sesuai kebutuhan\n",
        "arr = np.array([1,2,3])"
      ],
      "metadata": {
        "id": "RdlqLYEPDmK3"
      },
      "execution_count": null,
      "outputs": []
    },
    {
      "cell_type": "code",
      "source": [
        "print(arr)"
      ],
      "metadata": {
        "id": "XTocj6uWKlRU",
        "colab": {
          "base_uri": "https://localhost:8080/"
        },
        "outputId": "a57c82bf-2494-4651-e6d5-fc2551ac1db1"
      },
      "execution_count": null,
      "outputs": [
        {
          "output_type": "stream",
          "name": "stdout",
          "text": [
            "[1 2 3]\n"
          ]
        }
      ]
    },
    {
      "cell_type": "code",
      "source": [
        "arr[2]"
      ],
      "metadata": {
        "id": "1I7k6VhF5rzo",
        "colab": {
          "base_uri": "https://localhost:8080/"
        },
        "outputId": "22461bb5-38b1-430e-abca-9cbf89a53cb3"
      },
      "execution_count": null,
      "outputs": [
        {
          "output_type": "execute_result",
          "data": {
            "text/plain": [
              "3"
            ]
          },
          "metadata": {},
          "execution_count": 5
        }
      ]
    },
    {
      "cell_type": "code",
      "source": [
        "# Contoh 2 array 2 dimensi\n",
        "a = np.array([[1, 2], [3, 4]])\n",
        "print(a)"
      ],
      "metadata": {
        "id": "wdWSwOPZKmRb",
        "colab": {
          "base_uri": "https://localhost:8080/"
        },
        "outputId": "21ee9a6a-82d8-4f19-fa97-35bac7907ead"
      },
      "execution_count": null,
      "outputs": [
        {
          "output_type": "stream",
          "name": "stdout",
          "text": [
            "[[1 2]\n",
            " [3 4]]\n"
          ]
        }
      ]
    },
    {
      "cell_type": "markdown",
      "source": [
        "Tipe Data Array"
      ],
      "metadata": {
        "id": "Xqc6eOLdNizS"
      }
    },
    {
      "cell_type": "code",
      "source": [
        "# contoh 1 array dengan tipe data integer\n",
        "print(a.dtype)"
      ],
      "metadata": {
        "id": "TmDYDOawM-xg",
        "colab": {
          "base_uri": "https://localhost:8080/"
        },
        "outputId": "88222279-3b9b-4f35-ad16-c3ca13581898"
      },
      "execution_count": null,
      "outputs": [
        {
          "output_type": "stream",
          "name": "stdout",
          "text": [
            "int64\n"
          ]
        }
      ]
    },
    {
      "cell_type": "code",
      "source": [
        "# contoh 2 tipe data dengan unicode string\n",
        "arr_1 = np.array(['rambutan', 'apel', 'jeruk'])\n",
        "print(arr_1.dtype)\n",
        "arr_1 = np.array(['r', 'a', 'j'])\n",
        "print(arr_1.dtype)"
      ],
      "metadata": {
        "id": "WgBFyv7WOiIy",
        "colab": {
          "base_uri": "https://localhost:8080/"
        },
        "outputId": "501b1544-4874-4952-9b68-5533e9c9168e"
      },
      "execution_count": null,
      "outputs": [
        {
          "output_type": "stream",
          "name": "stdout",
          "text": [
            "<U8\n",
            "<U1\n"
          ]
        }
      ]
    },
    {
      "cell_type": "code",
      "source": [
        "#contoh 3 tipe data yang didefinisikan\n",
        "arr_2 = np.array([1, 2, 3, 4], dtype='S')\n",
        "\n",
        "print(arr_2)\n",
        "print(arr_2.dtype)"
      ],
      "metadata": {
        "id": "P9d8mf3oO0hF",
        "colab": {
          "base_uri": "https://localhost:8080/"
        },
        "outputId": "f867f888-6cb1-42f2-ab3e-eef9165dbc5b"
      },
      "execution_count": null,
      "outputs": [
        {
          "output_type": "stream",
          "name": "stdout",
          "text": [
            "[b'1' b'2' b'3' b'4']\n",
            "|S1\n"
          ]
        }
      ]
    },
    {
      "cell_type": "code",
      "source": [
        "#contoh 4 tipe data yang diubah= konversi integer\n",
        "arrs = np.array([1.1, 2.1, 3.1])\n",
        "\n",
        "newarr = arrs.astype('i')\n",
        "\n",
        "print(newarr)\n",
        "print(newarr.dtype)"
      ],
      "metadata": {
        "id": "eNKXCxdtPcDg",
        "colab": {
          "base_uri": "https://localhost:8080/"
        },
        "outputId": "fc71cfc3-db07-4f9a-a447-2847f42f3ab4"
      },
      "execution_count": null,
      "outputs": [
        {
          "output_type": "stream",
          "name": "stdout",
          "text": [
            "[1 2 3]\n",
            "int32\n"
          ]
        }
      ]
    },
    {
      "cell_type": "markdown",
      "source": [
        "Membuat array dari existed data (yang sudah ada)"
      ],
      "metadata": {
        "id": "FU21-38-TZeZ"
      }
    },
    {
      "cell_type": "code",
      "source": [
        "#konversi list menjadi ndarray\n",
        "\n",
        "x = [1, 2, 3, 4, 5]\n",
        "print(type(x))\n",
        "x = np.asarray(x)\n",
        "print(x.dtype)\n",
        "print(x)"
      ],
      "metadata": {
        "id": "QOPIky_oQA9j",
        "colab": {
          "base_uri": "https://localhost:8080/"
        },
        "outputId": "77292e14-d5da-455e-c5b0-f41fa977621e"
      },
      "execution_count": null,
      "outputs": [
        {
          "output_type": "stream",
          "name": "stdout",
          "text": [
            "<class 'list'>\n",
            "int64\n",
            "[1 2 3 4 5]\n"
          ]
        }
      ]
    },
    {
      "cell_type": "code",
      "source": [
        "# contoh kedua konversi list menjadi array dengan tipe data yang didefinisikan\n",
        "x = [1, 2, 3, 4, 5]\n",
        "print(type(x))\n",
        "x = np.asarray(x, dtype='f')\n",
        "print(x.dtype)\n",
        "print(x)"
      ],
      "metadata": {
        "id": "L1LN3eqpTwey",
        "colab": {
          "base_uri": "https://localhost:8080/"
        },
        "outputId": "8bfb6a36-3f53-48b9-c641-04aa929678a0"
      },
      "execution_count": null,
      "outputs": [
        {
          "output_type": "stream",
          "name": "stdout",
          "text": [
            "<class 'list'>\n",
            "float32\n",
            "[1. 2. 3. 4. 5.]\n"
          ]
        }
      ]
    },
    {
      "cell_type": "markdown",
      "source": [
        "# Task 1 untuk audience :\n",
        "- Buat dua variable tuple yang berisi angka\n",
        "- masukkan dua variable tuple tersebut kedalam variable bertipe data list\n",
        "- konversi list tersebut menjadi array numpy"
      ],
      "metadata": {
        "id": "Zww6OEvLUm-p"
      }
    },
    {
      "cell_type": "code",
      "source": [
        "# Isi disini\n",
        "# Buat dua variable tuple yang berisi angka\n",
        "x = (1, 2, 3, 4, 5)\n",
        "y = (6, 7, 8, 9, 10)\n",
        "\n",
        "# Masukkan dua variable tuple ke dalam list\n",
        "list_of_tuples = [x, y]\n",
        "\n",
        "# Konversi list menjadi array numpy\n",
        "numpy_array = np.array(list_of_tuples)\n",
        "\n",
        "print(\"X:\", x)\n",
        "print(\"Y:\", y)\n",
        "print(\"List of Variable:\", list_of_tuples)\n",
        "print(\"Numpy Array:\\n\", numpy_array)\n"
      ],
      "metadata": {
        "id": "B8wwI3LCUrW6",
        "colab": {
          "base_uri": "https://localhost:8080/"
        },
        "outputId": "97dcc8f4-3b2f-44e3-9211-fced50210698"
      },
      "execution_count": null,
      "outputs": [
        {
          "output_type": "stream",
          "name": "stdout",
          "text": [
            "X: (1, 2, 3, 4, 5)\n",
            "Y: (6, 7, 8, 9, 10)\n",
            "List of Variable: [(1, 2, 3, 4, 5), (6, 7, 8, 9, 10)]\n",
            "Numpy Array:\n",
            " [[ 1  2  3  4  5]\n",
            " [ 6  7  8  9 10]]\n"
          ]
        }
      ]
    },
    {
      "cell_type": "markdown",
      "source": [
        "Membuat rentang nilai menggunakan numpy (STUDY CASE) :\n",
        "membuat dataframe menggunakan rentang nilai random dan deterministik\n",
        "\n",
        "\n",
        "\n",
        "numpy.arange(start, stop, step, dtype)"
      ],
      "metadata": {
        "id": "dkKHKOBCVYPt"
      }
    },
    {
      "cell_type": "code",
      "source": [
        "z = np.arange(0, 1, 0.1, dtype='f')\n",
        "x = np.arange(1,11, 1)\n",
        "y = np.arange(10,20, 1)"
      ],
      "metadata": {
        "id": "zN2mKNHxVX0f"
      },
      "execution_count": null,
      "outputs": []
    },
    {
      "cell_type": "code",
      "source": [
        "print(z)\n",
        "print(x)\n",
        "print(y)"
      ],
      "metadata": {
        "id": "E2CJZCl5YHdY",
        "colab": {
          "base_uri": "https://localhost:8080/"
        },
        "outputId": "08ccbfa5-c46b-46a4-8f16-be3f5622a477"
      },
      "execution_count": null,
      "outputs": [
        {
          "output_type": "stream",
          "name": "stdout",
          "text": [
            "[0.         0.1        0.2        0.3        0.4        0.5\n",
            " 0.6        0.7        0.8        0.90000004]\n",
            "[ 1  2  3  4  5  6  7  8  9 10]\n",
            "[10 11 12 13 14 15 16 17 18 19]\n"
          ]
        }
      ]
    },
    {
      "cell_type": "code",
      "source": [
        "import pandas as pd"
      ],
      "metadata": {
        "id": "745d5k8SYOVa"
      },
      "execution_count": null,
      "outputs": []
    },
    {
      "cell_type": "code",
      "source": [
        "pd.DataFrame({'z' : z, 'x' : x, 'y' : y})"
      ],
      "metadata": {
        "id": "KN3fmQdiZq_D",
        "colab": {
          "base_uri": "https://localhost:8080/",
          "height": 363
        },
        "outputId": "7acc21fc-013a-4665-bb99-07035ffb4864"
      },
      "execution_count": null,
      "outputs": [
        {
          "output_type": "execute_result",
          "data": {
            "text/plain": [
              "     z   x   y\n",
              "0  0.0   1  10\n",
              "1  0.1   2  11\n",
              "2  0.2   3  12\n",
              "3  0.3   4  13\n",
              "4  0.4   5  14\n",
              "5  0.5   6  15\n",
              "6  0.6   7  16\n",
              "7  0.7   8  17\n",
              "8  0.8   9  18\n",
              "9  0.9  10  19"
            ],
            "text/html": [
              "\n",
              "  <div id=\"df-92d1e3a1-9636-460c-a669-5ef62c7c7d45\" class=\"colab-df-container\">\n",
              "    <div>\n",
              "<style scoped>\n",
              "    .dataframe tbody tr th:only-of-type {\n",
              "        vertical-align: middle;\n",
              "    }\n",
              "\n",
              "    .dataframe tbody tr th {\n",
              "        vertical-align: top;\n",
              "    }\n",
              "\n",
              "    .dataframe thead th {\n",
              "        text-align: right;\n",
              "    }\n",
              "</style>\n",
              "<table border=\"1\" class=\"dataframe\">\n",
              "  <thead>\n",
              "    <tr style=\"text-align: right;\">\n",
              "      <th></th>\n",
              "      <th>z</th>\n",
              "      <th>x</th>\n",
              "      <th>y</th>\n",
              "    </tr>\n",
              "  </thead>\n",
              "  <tbody>\n",
              "    <tr>\n",
              "      <th>0</th>\n",
              "      <td>0.0</td>\n",
              "      <td>1</td>\n",
              "      <td>10</td>\n",
              "    </tr>\n",
              "    <tr>\n",
              "      <th>1</th>\n",
              "      <td>0.1</td>\n",
              "      <td>2</td>\n",
              "      <td>11</td>\n",
              "    </tr>\n",
              "    <tr>\n",
              "      <th>2</th>\n",
              "      <td>0.2</td>\n",
              "      <td>3</td>\n",
              "      <td>12</td>\n",
              "    </tr>\n",
              "    <tr>\n",
              "      <th>3</th>\n",
              "      <td>0.3</td>\n",
              "      <td>4</td>\n",
              "      <td>13</td>\n",
              "    </tr>\n",
              "    <tr>\n",
              "      <th>4</th>\n",
              "      <td>0.4</td>\n",
              "      <td>5</td>\n",
              "      <td>14</td>\n",
              "    </tr>\n",
              "    <tr>\n",
              "      <th>5</th>\n",
              "      <td>0.5</td>\n",
              "      <td>6</td>\n",
              "      <td>15</td>\n",
              "    </tr>\n",
              "    <tr>\n",
              "      <th>6</th>\n",
              "      <td>0.6</td>\n",
              "      <td>7</td>\n",
              "      <td>16</td>\n",
              "    </tr>\n",
              "    <tr>\n",
              "      <th>7</th>\n",
              "      <td>0.7</td>\n",
              "      <td>8</td>\n",
              "      <td>17</td>\n",
              "    </tr>\n",
              "    <tr>\n",
              "      <th>8</th>\n",
              "      <td>0.8</td>\n",
              "      <td>9</td>\n",
              "      <td>18</td>\n",
              "    </tr>\n",
              "    <tr>\n",
              "      <th>9</th>\n",
              "      <td>0.9</td>\n",
              "      <td>10</td>\n",
              "      <td>19</td>\n",
              "    </tr>\n",
              "  </tbody>\n",
              "</table>\n",
              "</div>\n",
              "    <div class=\"colab-df-buttons\">\n",
              "\n",
              "  <div class=\"colab-df-container\">\n",
              "    <button class=\"colab-df-convert\" onclick=\"convertToInteractive('df-92d1e3a1-9636-460c-a669-5ef62c7c7d45')\"\n",
              "            title=\"Convert this dataframe to an interactive table.\"\n",
              "            style=\"display:none;\">\n",
              "\n",
              "  <svg xmlns=\"http://www.w3.org/2000/svg\" height=\"24px\" viewBox=\"0 -960 960 960\">\n",
              "    <path d=\"M120-120v-720h720v720H120Zm60-500h600v-160H180v160Zm220 220h160v-160H400v160Zm0 220h160v-160H400v160ZM180-400h160v-160H180v160Zm440 0h160v-160H620v160ZM180-180h160v-160H180v160Zm440 0h160v-160H620v160Z\"/>\n",
              "  </svg>\n",
              "    </button>\n",
              "\n",
              "  <style>\n",
              "    .colab-df-container {\n",
              "      display:flex;\n",
              "      gap: 12px;\n",
              "    }\n",
              "\n",
              "    .colab-df-convert {\n",
              "      background-color: #E8F0FE;\n",
              "      border: none;\n",
              "      border-radius: 50%;\n",
              "      cursor: pointer;\n",
              "      display: none;\n",
              "      fill: #1967D2;\n",
              "      height: 32px;\n",
              "      padding: 0 0 0 0;\n",
              "      width: 32px;\n",
              "    }\n",
              "\n",
              "    .colab-df-convert:hover {\n",
              "      background-color: #E2EBFA;\n",
              "      box-shadow: 0px 1px 2px rgba(60, 64, 67, 0.3), 0px 1px 3px 1px rgba(60, 64, 67, 0.15);\n",
              "      fill: #174EA6;\n",
              "    }\n",
              "\n",
              "    .colab-df-buttons div {\n",
              "      margin-bottom: 4px;\n",
              "    }\n",
              "\n",
              "    [theme=dark] .colab-df-convert {\n",
              "      background-color: #3B4455;\n",
              "      fill: #D2E3FC;\n",
              "    }\n",
              "\n",
              "    [theme=dark] .colab-df-convert:hover {\n",
              "      background-color: #434B5C;\n",
              "      box-shadow: 0px 1px 3px 1px rgba(0, 0, 0, 0.15);\n",
              "      filter: drop-shadow(0px 1px 2px rgba(0, 0, 0, 0.3));\n",
              "      fill: #FFFFFF;\n",
              "    }\n",
              "  </style>\n",
              "\n",
              "    <script>\n",
              "      const buttonEl =\n",
              "        document.querySelector('#df-92d1e3a1-9636-460c-a669-5ef62c7c7d45 button.colab-df-convert');\n",
              "      buttonEl.style.display =\n",
              "        google.colab.kernel.accessAllowed ? 'block' : 'none';\n",
              "\n",
              "      async function convertToInteractive(key) {\n",
              "        const element = document.querySelector('#df-92d1e3a1-9636-460c-a669-5ef62c7c7d45');\n",
              "        const dataTable =\n",
              "          await google.colab.kernel.invokeFunction('convertToInteractive',\n",
              "                                                    [key], {});\n",
              "        if (!dataTable) return;\n",
              "\n",
              "        const docLinkHtml = 'Like what you see? Visit the ' +\n",
              "          '<a target=\"_blank\" href=https://colab.research.google.com/notebooks/data_table.ipynb>data table notebook</a>'\n",
              "          + ' to learn more about interactive tables.';\n",
              "        element.innerHTML = '';\n",
              "        dataTable['output_type'] = 'display_data';\n",
              "        await google.colab.output.renderOutput(dataTable, element);\n",
              "        const docLink = document.createElement('div');\n",
              "        docLink.innerHTML = docLinkHtml;\n",
              "        element.appendChild(docLink);\n",
              "      }\n",
              "    </script>\n",
              "  </div>\n",
              "\n",
              "\n",
              "<div id=\"df-2e7ff25d-f101-406d-bd23-93f476005841\">\n",
              "  <button class=\"colab-df-quickchart\" onclick=\"quickchart('df-2e7ff25d-f101-406d-bd23-93f476005841')\"\n",
              "            title=\"Suggest charts.\"\n",
              "            style=\"display:none;\">\n",
              "\n",
              "<svg xmlns=\"http://www.w3.org/2000/svg\" height=\"24px\"viewBox=\"0 0 24 24\"\n",
              "     width=\"24px\">\n",
              "    <g>\n",
              "        <path d=\"M19 3H5c-1.1 0-2 .9-2 2v14c0 1.1.9 2 2 2h14c1.1 0 2-.9 2-2V5c0-1.1-.9-2-2-2zM9 17H7v-7h2v7zm4 0h-2V7h2v10zm4 0h-2v-4h2v4z\"/>\n",
              "    </g>\n",
              "</svg>\n",
              "  </button>\n",
              "\n",
              "<style>\n",
              "  .colab-df-quickchart {\n",
              "    background-color: #E8F0FE;\n",
              "    border: none;\n",
              "    border-radius: 50%;\n",
              "    cursor: pointer;\n",
              "    display: none;\n",
              "    fill: #1967D2;\n",
              "    height: 32px;\n",
              "    padding: 0 0 0 0;\n",
              "    width: 32px;\n",
              "  }\n",
              "\n",
              "  .colab-df-quickchart:hover {\n",
              "    background-color: #E2EBFA;\n",
              "    box-shadow: 0px 1px 2px rgba(60, 64, 67, 0.3), 0px 1px 3px 1px rgba(60, 64, 67, 0.15);\n",
              "    fill: #174EA6;\n",
              "  }\n",
              "\n",
              "  [theme=dark] .colab-df-quickchart {\n",
              "    background-color: #3B4455;\n",
              "    fill: #D2E3FC;\n",
              "  }\n",
              "\n",
              "  [theme=dark] .colab-df-quickchart:hover {\n",
              "    background-color: #434B5C;\n",
              "    box-shadow: 0px 1px 3px 1px rgba(0, 0, 0, 0.15);\n",
              "    filter: drop-shadow(0px 1px 2px rgba(0, 0, 0, 0.3));\n",
              "    fill: #FFFFFF;\n",
              "  }\n",
              "</style>\n",
              "\n",
              "  <script>\n",
              "    async function quickchart(key) {\n",
              "      const charts = await google.colab.kernel.invokeFunction(\n",
              "          'suggestCharts', [key], {});\n",
              "    }\n",
              "    (() => {\n",
              "      let quickchartButtonEl =\n",
              "        document.querySelector('#df-2e7ff25d-f101-406d-bd23-93f476005841 button');\n",
              "      quickchartButtonEl.style.display =\n",
              "        google.colab.kernel.accessAllowed ? 'block' : 'none';\n",
              "    })();\n",
              "  </script>\n",
              "</div>\n",
              "    </div>\n",
              "  </div>\n"
            ]
          },
          "metadata": {},
          "execution_count": 27
        }
      ]
    },
    {
      "cell_type": "markdown",
      "source": [
        "Operasi umum lain di NumPy beserta tugas untuk audience"
      ],
      "metadata": {
        "id": "YLcklS2RcRmx"
      }
    },
    {
      "cell_type": "code",
      "source": [
        "#membuat array dengan nilai 1 di numpy\n",
        "x = np.ones((3,4))\n",
        "print(x)"
      ],
      "metadata": {
        "id": "TDNsyMpcaQiF",
        "colab": {
          "base_uri": "https://localhost:8080/"
        },
        "outputId": "fc8215d1-6937-4d52-e2aa-95ca422feddf"
      },
      "execution_count": null,
      "outputs": [
        {
          "output_type": "stream",
          "name": "stdout",
          "text": [
            "[[1. 1. 1. 1.]\n",
            " [1. 1. 1. 1.]\n",
            " [1. 1. 1. 1.]]\n"
          ]
        }
      ]
    },
    {
      "cell_type": "code",
      "source": [
        "#membuat array dengan nilai 0 di numpy\n",
        "x = np.zeros((5,7))\n",
        "print(x)"
      ],
      "metadata": {
        "id": "yRpYGd9ZdOF3",
        "colab": {
          "base_uri": "https://localhost:8080/"
        },
        "outputId": "10021bf6-b478-4558-ebfc-ddfd2538e41e"
      },
      "execution_count": null,
      "outputs": [
        {
          "output_type": "stream",
          "name": "stdout",
          "text": [
            "[[0. 0. 0. 0. 0. 0. 0.]\n",
            " [0. 0. 0. 0. 0. 0. 0.]\n",
            " [0. 0. 0. 0. 0. 0. 0.]\n",
            " [0. 0. 0. 0. 0. 0. 0.]\n",
            " [0. 0. 0. 0. 0. 0. 0.]]\n"
          ]
        }
      ]
    },
    {
      "cell_type": "code",
      "source": [
        "x = np.full((3,4), 0.72)\n",
        "print(x)"
      ],
      "metadata": {
        "id": "LwZIPP1g8gDy",
        "colab": {
          "base_uri": "https://localhost:8080/"
        },
        "outputId": "e122bf56-0a3e-4337-8b53-0761a76c7d3c"
      },
      "execution_count": null,
      "outputs": [
        {
          "output_type": "stream",
          "name": "stdout",
          "text": [
            "[[0.72 0.72 0.72 0.72]\n",
            " [0.72 0.72 0.72 0.72]\n",
            " [0.72 0.72 0.72 0.72]]\n"
          ]
        }
      ]
    },
    {
      "cell_type": "code",
      "source": [
        "x = np.random.rand(5,3)\n",
        "print(x)"
      ],
      "metadata": {
        "id": "kgT_0mHIdU74",
        "colab": {
          "base_uri": "https://localhost:8080/"
        },
        "outputId": "53221350-4875-4e56-eefe-53ff3ad2abf1"
      },
      "execution_count": null,
      "outputs": [
        {
          "output_type": "stream",
          "name": "stdout",
          "text": [
            "[[0.60638544 0.01604787 0.42380413]\n",
            " [0.08845875 0.5078161  0.19979482]\n",
            " [0.39411911 0.35023249 0.93827345]\n",
            " [0.81447921 0.13856989 0.9868695 ]\n",
            " [0.61215718 0.61244983 0.20527644]]\n"
          ]
        }
      ]
    },
    {
      "cell_type": "code",
      "source": [
        "pd.DataFrame(x, columns=['x', 'y', 'z'])"
      ],
      "metadata": {
        "id": "LcWqeUjre0Dn",
        "colab": {
          "base_uri": "https://localhost:8080/",
          "height": 206
        },
        "outputId": "b37bf51f-ffa0-4f50-db65-093938fa908a"
      },
      "execution_count": null,
      "outputs": [
        {
          "output_type": "execute_result",
          "data": {
            "text/plain": [
              "          x         y         z\n",
              "0  0.606385  0.016048  0.423804\n",
              "1  0.088459  0.507816  0.199795\n",
              "2  0.394119  0.350232  0.938273\n",
              "3  0.814479  0.138570  0.986870\n",
              "4  0.612157  0.612450  0.205276"
            ],
            "text/html": [
              "\n",
              "  <div id=\"df-6793a04a-0863-4760-a383-b9b0e537c8e8\" class=\"colab-df-container\">\n",
              "    <div>\n",
              "<style scoped>\n",
              "    .dataframe tbody tr th:only-of-type {\n",
              "        vertical-align: middle;\n",
              "    }\n",
              "\n",
              "    .dataframe tbody tr th {\n",
              "        vertical-align: top;\n",
              "    }\n",
              "\n",
              "    .dataframe thead th {\n",
              "        text-align: right;\n",
              "    }\n",
              "</style>\n",
              "<table border=\"1\" class=\"dataframe\">\n",
              "  <thead>\n",
              "    <tr style=\"text-align: right;\">\n",
              "      <th></th>\n",
              "      <th>x</th>\n",
              "      <th>y</th>\n",
              "      <th>z</th>\n",
              "    </tr>\n",
              "  </thead>\n",
              "  <tbody>\n",
              "    <tr>\n",
              "      <th>0</th>\n",
              "      <td>0.606385</td>\n",
              "      <td>0.016048</td>\n",
              "      <td>0.423804</td>\n",
              "    </tr>\n",
              "    <tr>\n",
              "      <th>1</th>\n",
              "      <td>0.088459</td>\n",
              "      <td>0.507816</td>\n",
              "      <td>0.199795</td>\n",
              "    </tr>\n",
              "    <tr>\n",
              "      <th>2</th>\n",
              "      <td>0.394119</td>\n",
              "      <td>0.350232</td>\n",
              "      <td>0.938273</td>\n",
              "    </tr>\n",
              "    <tr>\n",
              "      <th>3</th>\n",
              "      <td>0.814479</td>\n",
              "      <td>0.138570</td>\n",
              "      <td>0.986870</td>\n",
              "    </tr>\n",
              "    <tr>\n",
              "      <th>4</th>\n",
              "      <td>0.612157</td>\n",
              "      <td>0.612450</td>\n",
              "      <td>0.205276</td>\n",
              "    </tr>\n",
              "  </tbody>\n",
              "</table>\n",
              "</div>\n",
              "    <div class=\"colab-df-buttons\">\n",
              "\n",
              "  <div class=\"colab-df-container\">\n",
              "    <button class=\"colab-df-convert\" onclick=\"convertToInteractive('df-6793a04a-0863-4760-a383-b9b0e537c8e8')\"\n",
              "            title=\"Convert this dataframe to an interactive table.\"\n",
              "            style=\"display:none;\">\n",
              "\n",
              "  <svg xmlns=\"http://www.w3.org/2000/svg\" height=\"24px\" viewBox=\"0 -960 960 960\">\n",
              "    <path d=\"M120-120v-720h720v720H120Zm60-500h600v-160H180v160Zm220 220h160v-160H400v160Zm0 220h160v-160H400v160ZM180-400h160v-160H180v160Zm440 0h160v-160H620v160ZM180-180h160v-160H180v160Zm440 0h160v-160H620v160Z\"/>\n",
              "  </svg>\n",
              "    </button>\n",
              "\n",
              "  <style>\n",
              "    .colab-df-container {\n",
              "      display:flex;\n",
              "      gap: 12px;\n",
              "    }\n",
              "\n",
              "    .colab-df-convert {\n",
              "      background-color: #E8F0FE;\n",
              "      border: none;\n",
              "      border-radius: 50%;\n",
              "      cursor: pointer;\n",
              "      display: none;\n",
              "      fill: #1967D2;\n",
              "      height: 32px;\n",
              "      padding: 0 0 0 0;\n",
              "      width: 32px;\n",
              "    }\n",
              "\n",
              "    .colab-df-convert:hover {\n",
              "      background-color: #E2EBFA;\n",
              "      box-shadow: 0px 1px 2px rgba(60, 64, 67, 0.3), 0px 1px 3px 1px rgba(60, 64, 67, 0.15);\n",
              "      fill: #174EA6;\n",
              "    }\n",
              "\n",
              "    .colab-df-buttons div {\n",
              "      margin-bottom: 4px;\n",
              "    }\n",
              "\n",
              "    [theme=dark] .colab-df-convert {\n",
              "      background-color: #3B4455;\n",
              "      fill: #D2E3FC;\n",
              "    }\n",
              "\n",
              "    [theme=dark] .colab-df-convert:hover {\n",
              "      background-color: #434B5C;\n",
              "      box-shadow: 0px 1px 3px 1px rgba(0, 0, 0, 0.15);\n",
              "      filter: drop-shadow(0px 1px 2px rgba(0, 0, 0, 0.3));\n",
              "      fill: #FFFFFF;\n",
              "    }\n",
              "  </style>\n",
              "\n",
              "    <script>\n",
              "      const buttonEl =\n",
              "        document.querySelector('#df-6793a04a-0863-4760-a383-b9b0e537c8e8 button.colab-df-convert');\n",
              "      buttonEl.style.display =\n",
              "        google.colab.kernel.accessAllowed ? 'block' : 'none';\n",
              "\n",
              "      async function convertToInteractive(key) {\n",
              "        const element = document.querySelector('#df-6793a04a-0863-4760-a383-b9b0e537c8e8');\n",
              "        const dataTable =\n",
              "          await google.colab.kernel.invokeFunction('convertToInteractive',\n",
              "                                                    [key], {});\n",
              "        if (!dataTable) return;\n",
              "\n",
              "        const docLinkHtml = 'Like what you see? Visit the ' +\n",
              "          '<a target=\"_blank\" href=https://colab.research.google.com/notebooks/data_table.ipynb>data table notebook</a>'\n",
              "          + ' to learn more about interactive tables.';\n",
              "        element.innerHTML = '';\n",
              "        dataTable['output_type'] = 'display_data';\n",
              "        await google.colab.output.renderOutput(dataTable, element);\n",
              "        const docLink = document.createElement('div');\n",
              "        docLink.innerHTML = docLinkHtml;\n",
              "        element.appendChild(docLink);\n",
              "      }\n",
              "    </script>\n",
              "  </div>\n",
              "\n",
              "\n",
              "<div id=\"df-a0e96654-1d90-4f18-967c-cac8bb15a344\">\n",
              "  <button class=\"colab-df-quickchart\" onclick=\"quickchart('df-a0e96654-1d90-4f18-967c-cac8bb15a344')\"\n",
              "            title=\"Suggest charts.\"\n",
              "            style=\"display:none;\">\n",
              "\n",
              "<svg xmlns=\"http://www.w3.org/2000/svg\" height=\"24px\"viewBox=\"0 0 24 24\"\n",
              "     width=\"24px\">\n",
              "    <g>\n",
              "        <path d=\"M19 3H5c-1.1 0-2 .9-2 2v14c0 1.1.9 2 2 2h14c1.1 0 2-.9 2-2V5c0-1.1-.9-2-2-2zM9 17H7v-7h2v7zm4 0h-2V7h2v10zm4 0h-2v-4h2v4z\"/>\n",
              "    </g>\n",
              "</svg>\n",
              "  </button>\n",
              "\n",
              "<style>\n",
              "  .colab-df-quickchart {\n",
              "    background-color: #E8F0FE;\n",
              "    border: none;\n",
              "    border-radius: 50%;\n",
              "    cursor: pointer;\n",
              "    display: none;\n",
              "    fill: #1967D2;\n",
              "    height: 32px;\n",
              "    padding: 0 0 0 0;\n",
              "    width: 32px;\n",
              "  }\n",
              "\n",
              "  .colab-df-quickchart:hover {\n",
              "    background-color: #E2EBFA;\n",
              "    box-shadow: 0px 1px 2px rgba(60, 64, 67, 0.3), 0px 1px 3px 1px rgba(60, 64, 67, 0.15);\n",
              "    fill: #174EA6;\n",
              "  }\n",
              "\n",
              "  [theme=dark] .colab-df-quickchart {\n",
              "    background-color: #3B4455;\n",
              "    fill: #D2E3FC;\n",
              "  }\n",
              "\n",
              "  [theme=dark] .colab-df-quickchart:hover {\n",
              "    background-color: #434B5C;\n",
              "    box-shadow: 0px 1px 3px 1px rgba(0, 0, 0, 0.15);\n",
              "    filter: drop-shadow(0px 1px 2px rgba(0, 0, 0, 0.3));\n",
              "    fill: #FFFFFF;\n",
              "  }\n",
              "</style>\n",
              "\n",
              "  <script>\n",
              "    async function quickchart(key) {\n",
              "      const charts = await google.colab.kernel.invokeFunction(\n",
              "          'suggestCharts', [key], {});\n",
              "    }\n",
              "    (() => {\n",
              "      let quickchartButtonEl =\n",
              "        document.querySelector('#df-a0e96654-1d90-4f18-967c-cac8bb15a344 button');\n",
              "      quickchartButtonEl.style.display =\n",
              "        google.colab.kernel.accessAllowed ? 'block' : 'none';\n",
              "    })();\n",
              "  </script>\n",
              "</div>\n",
              "    </div>\n",
              "  </div>\n"
            ]
          },
          "metadata": {},
          "execution_count": 32
        }
      ]
    },
    {
      "cell_type": "code",
      "source": [
        "# Tugas 1 : Generate random array menggunakan np.random.rand dengan jumlah baris 3 serta jumlah kolom 4 dan masukkan ke dalam dataframe\n",
        "# Tugas 2 : Generate array dengan nilai satu dan nol yang memiliki baris 5 dan 6 kolom di dua variable berbeda kemudian konversi ke dataframe\n",
        "#           dan concat keduanya\n",
        "\n",
        "# Tugas 1\n",
        "random_array = np.random.rand(3, 4)\n",
        "df_random = pd.DataFrame(random_array, columns=['A', 'B', 'C', 'D'])\n",
        "print(\"DataFrame dari Tugas 1 (Random Array):\\n\", df_random)\n",
        "\n",
        "# Tugas 2\n",
        "array_zeros = np.zeros((5, 6))\n",
        "array_ones = np.ones((5, 6))\n",
        "\n",
        "df_zeros = pd.DataFrame(array_zeros, columns=['Z1', 'Z2', 'Z3', 'Z4', 'Z5', 'Z6'])\n",
        "df_ones = pd.DataFrame(array_ones, columns=['O1', 'O2', 'O3', 'O4', 'O5', 'O6'])\n",
        "\n",
        "print(\"\\nDataFrame dari Tugas 2 (Array Nol):\\n\", df_zeros)\n",
        "print(\"\\nDataFrame dari Tugas 2 (Array Satu):\\n\", df_ones)\n",
        "\n",
        "# Menggabungkan kedua dataframe\n",
        "concatenated_df = pd.concat([df_zeros, df_ones], axis=1)\n",
        "\n",
        "print(\"\\nDataFrame hasil penggabungan:\\n\", concatenated_df)\n"
      ],
      "metadata": {
        "id": "qqQfi9xtePZk",
        "colab": {
          "base_uri": "https://localhost:8080/"
        },
        "outputId": "d28ac5f3-2092-45f3-80dd-97d50af8bd22"
      },
      "execution_count": null,
      "outputs": [
        {
          "output_type": "stream",
          "name": "stdout",
          "text": [
            "DataFrame dari Tugas 1 (Random Array):\n",
            "           A         B         C         D\n",
            "0  0.136145  0.301701  0.458000  0.246797\n",
            "1  0.032660  0.137547  0.798701  0.184234\n",
            "2  0.042996  0.708038  0.581881  0.593338\n",
            "\n",
            "DataFrame dari Tugas 2 (Array Nol):\n",
            "     Z1   Z2   Z3   Z4   Z5   Z6\n",
            "0  0.0  0.0  0.0  0.0  0.0  0.0\n",
            "1  0.0  0.0  0.0  0.0  0.0  0.0\n",
            "2  0.0  0.0  0.0  0.0  0.0  0.0\n",
            "3  0.0  0.0  0.0  0.0  0.0  0.0\n",
            "4  0.0  0.0  0.0  0.0  0.0  0.0\n",
            "\n",
            "DataFrame dari Tugas 2 (Array Satu):\n",
            "     O1   O2   O3   O4   O5   O6\n",
            "0  1.0  1.0  1.0  1.0  1.0  1.0\n",
            "1  1.0  1.0  1.0  1.0  1.0  1.0\n",
            "2  1.0  1.0  1.0  1.0  1.0  1.0\n",
            "3  1.0  1.0  1.0  1.0  1.0  1.0\n",
            "4  1.0  1.0  1.0  1.0  1.0  1.0\n",
            "\n",
            "DataFrame hasil penggabungan:\n",
            "     Z1   Z2   Z3   Z4   Z5   Z6   O1   O2   O3   O4   O5   O6\n",
            "0  0.0  0.0  0.0  0.0  0.0  0.0  1.0  1.0  1.0  1.0  1.0  1.0\n",
            "1  0.0  0.0  0.0  0.0  0.0  0.0  1.0  1.0  1.0  1.0  1.0  1.0\n",
            "2  0.0  0.0  0.0  0.0  0.0  0.0  1.0  1.0  1.0  1.0  1.0  1.0\n",
            "3  0.0  0.0  0.0  0.0  0.0  0.0  1.0  1.0  1.0  1.0  1.0  1.0\n",
            "4  0.0  0.0  0.0  0.0  0.0  0.0  1.0  1.0  1.0  1.0  1.0  1.0\n"
          ]
        }
      ]
    },
    {
      "cell_type": "code",
      "source": [],
      "metadata": {
        "id": "S9j9VBnPSn4y"
      },
      "execution_count": null,
      "outputs": []
    }
  ]
}